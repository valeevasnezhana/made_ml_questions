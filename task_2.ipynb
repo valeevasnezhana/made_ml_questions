{
 "cells": [
  {
   "cell_type": "code",
   "execution_count": 1,
   "id": "7264b0ba-c5f9-4857-aff8-d431d09f5ee1",
   "metadata": {},
   "outputs": [],
   "source": [
    "import os\n",
    "CUDA_VISIBLE_DEVICES_KEY = \"CUDA_VISIBLE_DEVICES\"\n",
    "os.environ[CUDA_VISIBLE_DEVICES_KEY] = \"7\""
   ]
  },
  {
   "cell_type": "code",
   "execution_count": 2,
   "id": "83e9f5e7-9fd8-49ac-904b-587ab71da0d2",
   "metadata": {},
   "outputs": [
    {
     "name": "stdout",
     "output_type": "stream",
     "text": [
      "Num GPUs Available:  1\n"
     ]
    }
   ],
   "source": [
    "import tensorflow as tf\n",
    "print(\"Num GPUs Available: \", len(tf.config.list_physical_devices('GPU')))"
   ]
  },
  {
   "cell_type": "code",
   "execution_count": 3,
   "id": "a0025043-b2f8-410a-8242-e118fd7fcb07",
   "metadata": {},
   "outputs": [
    {
     "data": {
      "text/html": [
       "<div>\n",
       "<style scoped>\n",
       "    .dataframe tbody tr th:only-of-type {\n",
       "        vertical-align: middle;\n",
       "    }\n",
       "\n",
       "    .dataframe tbody tr th {\n",
       "        vertical-align: top;\n",
       "    }\n",
       "\n",
       "    .dataframe thead th {\n",
       "        text-align: right;\n",
       "    }\n",
       "</style>\n",
       "<table border=\"1\" class=\"dataframe\">\n",
       "  <thead>\n",
       "    <tr style=\"text-align: right;\">\n",
       "      <th></th>\n",
       "      <th>img_path</th>\n",
       "      <th>label</th>\n",
       "      <th>type</th>\n",
       "    </tr>\n",
       "  </thead>\n",
       "  <tbody>\n",
       "    <tr>\n",
       "      <th>0</th>\n",
       "      <td>train_data/1.png</td>\n",
       "      <td>3</td>\n",
       "      <td>1</td>\n",
       "    </tr>\n",
       "    <tr>\n",
       "      <th>1</th>\n",
       "      <td>train_data/2.png</td>\n",
       "      <td>7</td>\n",
       "      <td>3</td>\n",
       "    </tr>\n",
       "    <tr>\n",
       "      <th>2</th>\n",
       "      <td>train_data/3.png</td>\n",
       "      <td>9</td>\n",
       "      <td>2</td>\n",
       "    </tr>\n",
       "    <tr>\n",
       "      <th>3</th>\n",
       "      <td>train_data/4.png</td>\n",
       "      <td>9</td>\n",
       "      <td>1</td>\n",
       "    </tr>\n",
       "    <tr>\n",
       "      <th>4</th>\n",
       "      <td>train_data/5.png</td>\n",
       "      <td>10</td>\n",
       "      <td>1</td>\n",
       "    </tr>\n",
       "    <tr>\n",
       "      <th>...</th>\n",
       "      <td>...</td>\n",
       "      <td>...</td>\n",
       "      <td>...</td>\n",
       "    </tr>\n",
       "    <tr>\n",
       "      <th>2995</th>\n",
       "      <td>train_data/2996.png</td>\n",
       "      <td>10</td>\n",
       "      <td>1</td>\n",
       "    </tr>\n",
       "    <tr>\n",
       "      <th>2996</th>\n",
       "      <td>train_data/2997.png</td>\n",
       "      <td>2</td>\n",
       "      <td>1</td>\n",
       "    </tr>\n",
       "    <tr>\n",
       "      <th>2997</th>\n",
       "      <td>train_data/2998.png</td>\n",
       "      <td>7</td>\n",
       "      <td>1</td>\n",
       "    </tr>\n",
       "    <tr>\n",
       "      <th>2998</th>\n",
       "      <td>train_data/2999.png</td>\n",
       "      <td>7</td>\n",
       "      <td>3</td>\n",
       "    </tr>\n",
       "    <tr>\n",
       "      <th>2999</th>\n",
       "      <td>train_data/3000.png</td>\n",
       "      <td>1</td>\n",
       "      <td>2</td>\n",
       "    </tr>\n",
       "  </tbody>\n",
       "</table>\n",
       "<p>3000 rows × 3 columns</p>\n",
       "</div>"
      ],
      "text/plain": [
       "                 img_path  label  type\n",
       "0        train_data/1.png      3     1\n",
       "1        train_data/2.png      7     3\n",
       "2        train_data/3.png      9     2\n",
       "3        train_data/4.png      9     1\n",
       "4        train_data/5.png     10     1\n",
       "...                   ...    ...   ...\n",
       "2995  train_data/2996.png     10     1\n",
       "2996  train_data/2997.png      2     1\n",
       "2997  train_data/2998.png      7     1\n",
       "2998  train_data/2999.png      7     3\n",
       "2999  train_data/3000.png      1     2\n",
       "\n",
       "[3000 rows x 3 columns]"
      ]
     },
     "execution_count": 3,
     "metadata": {},
     "output_type": "execute_result"
    }
   ],
   "source": [
    "import pandas as pd\n",
    "import numpy as np\n",
    "%matplotlib inline\n",
    "import matplotlib.pyplot as plt\n",
    "import cv2\n",
    "from PIL import Image\n",
    "import glob, os\n",
    "import matplotlib.pyplot as plt\n",
    "import pandas as pd\n",
    "import numpy as np\n",
    "\n",
    "train_df = pd.read_csv('train.csv')\n",
    "train_df"
   ]
  },
  {
   "cell_type": "code",
   "execution_count": 4,
   "id": "58e24ac1-dd6c-4dea-9d5e-63229c5612d3",
   "metadata": {},
   "outputs": [
    {
     "data": {
      "text/html": [
       "<div>\n",
       "<style scoped>\n",
       "    .dataframe tbody tr th:only-of-type {\n",
       "        vertical-align: middle;\n",
       "    }\n",
       "\n",
       "    .dataframe tbody tr th {\n",
       "        vertical-align: top;\n",
       "    }\n",
       "\n",
       "    .dataframe thead th {\n",
       "        text-align: right;\n",
       "    }\n",
       "</style>\n",
       "<table border=\"1\" class=\"dataframe\">\n",
       "  <thead>\n",
       "    <tr style=\"text-align: right;\">\n",
       "      <th></th>\n",
       "      <th>img_path</th>\n",
       "    </tr>\n",
       "  </thead>\n",
       "  <tbody>\n",
       "    <tr>\n",
       "      <th>0</th>\n",
       "      <td>test_data/1.png</td>\n",
       "    </tr>\n",
       "    <tr>\n",
       "      <th>1</th>\n",
       "      <td>test_data/2.png</td>\n",
       "    </tr>\n",
       "    <tr>\n",
       "      <th>2</th>\n",
       "      <td>test_data/3.png</td>\n",
       "    </tr>\n",
       "    <tr>\n",
       "      <th>3</th>\n",
       "      <td>test_data/4.png</td>\n",
       "    </tr>\n",
       "    <tr>\n",
       "      <th>4</th>\n",
       "      <td>test_data/5.png</td>\n",
       "    </tr>\n",
       "    <tr>\n",
       "      <th>...</th>\n",
       "      <td>...</td>\n",
       "    </tr>\n",
       "    <tr>\n",
       "      <th>5995</th>\n",
       "      <td>test_data/5996.png</td>\n",
       "    </tr>\n",
       "    <tr>\n",
       "      <th>5996</th>\n",
       "      <td>test_data/5997.png</td>\n",
       "    </tr>\n",
       "    <tr>\n",
       "      <th>5997</th>\n",
       "      <td>test_data/5998.png</td>\n",
       "    </tr>\n",
       "    <tr>\n",
       "      <th>5998</th>\n",
       "      <td>test_data/5999.png</td>\n",
       "    </tr>\n",
       "    <tr>\n",
       "      <th>5999</th>\n",
       "      <td>test_data/6000.png</td>\n",
       "    </tr>\n",
       "  </tbody>\n",
       "</table>\n",
       "<p>6000 rows × 1 columns</p>\n",
       "</div>"
      ],
      "text/plain": [
       "                img_path\n",
       "0        test_data/1.png\n",
       "1        test_data/2.png\n",
       "2        test_data/3.png\n",
       "3        test_data/4.png\n",
       "4        test_data/5.png\n",
       "...                  ...\n",
       "5995  test_data/5996.png\n",
       "5996  test_data/5997.png\n",
       "5997  test_data/5998.png\n",
       "5998  test_data/5999.png\n",
       "5999  test_data/6000.png\n",
       "\n",
       "[6000 rows x 1 columns]"
      ]
     },
     "execution_count": 4,
     "metadata": {},
     "output_type": "execute_result"
    }
   ],
   "source": [
    "test_df = pd.read_csv('test.csv')\n",
    "test_df"
   ]
  },
  {
   "cell_type": "code",
   "execution_count": 37,
   "id": "f5d8a518-f098-46da-9266-afdf8ebd350b",
   "metadata": {},
   "outputs": [
    {
     "name": "stdout",
     "output_type": "stream",
     "text": [
      "Removed due to excess of vertical lines\n",
      "5\n"
     ]
    },
    {
     "data": {
      "image/png": "[encoded data removed]",
      "text/plain": [
       "<Figure size 360x360 with 1 Axes>"
      ]
     },
     "metadata": {
      "needs_background": "light"
     },
     "output_type": "display_data"
    },
    {
     "data": {
      "image/png": "[encoded data removed]",
      "text/plain": [
       "<Figure size 1080x4320 with 36 Axes>"
      ]
     },
     "metadata": {
      "needs_background": "light"
     },
     "output_type": "display_data"
    }
   ],
   "source": [
    "from gamma_util import general_util\n",
    "import importlib\n",
    "importlib.reload(general_util)\n",
    "import time\n",
    "\n",
    "row = train_df.iloc[406]\n",
    "prepared_image = general_util.create_prepared_image(row)\n",
    "\n",
    "plt.figure(figsize=(5,5))\n",
    "plt.imshow(\n",
    "    Image.fromarray(prepared_image.input_image)\n",
    ")\n",
    "\n",
    "sub_image_amount = len(prepared_image.resized_line_image_list)\n",
    "fig, ax_list = plt.subplots(figsize=(15, sub_image_amount*5),ncols=3, nrows=sub_image_amount)\n",
    "print(prepared_image.label)\n",
    "for line_image_index, _ in enumerate(prepared_image.resized_line_image_list):\n",
    "    ax_line = ax_list[line_image_index]\n",
    "    ax_line[0].imshow(prepared_image.raw_sub_image_list[line_image_index], cmap='binary')\n",
    "    ax_line[1].imshow(prepared_image.line_image_list[line_image_index].image_arr, cmap='binary')\n",
    "    ax_line[2].imshow(prepared_image.resized_line_image_list[line_image_index].image_arr, cmap='binary')\n",
    "    for ax in ax_line:\n",
    "        ax.set_title(f\"{line_image_index}\")"
   ]
  },
  {
   "cell_type": "code",
   "execution_count": 48,
   "id": "8bbedb04-750d-43fa-b32f-ba4c0d0a15ca",
   "metadata": {},
   "outputs": [
    {
     "name": "stdout",
     "output_type": "stream",
     "text": [
      "0 False 307 87\n",
      "1 True 0 0\n",
      "2 True 304 307\n",
      "Expected: 1\n",
      "Actual: 2\n"
     ]
    }
   ],
   "source": [
    "from gamma_util import general_util\n",
    "import importlib\n",
    "importlib.reload(general_util)\n",
    "import time\n",
    "\n",
    "row = train_df.iloc[89]\n",
    "prepared_image = general_util.create_prepared_image(row)\n",
    "\n",
    "square_amount = 0\n",
    "for resized_line_image_index, resized_line_image in enumerate(prepared_image.resized_line_image_list):\n",
    "    line_list = resized_line_image.line_list\n",
    "    hor_list = [line for line in line_list if general_util.is_horisontal(line)]\n",
    "    ver_list = [line for line in line_list if general_util.is_vertical(line)]\n",
    "\n",
    "    hor_distance_list = list()\n",
    "    for left in hor_list:\n",
    "        for right in hor_list:\n",
    "            hor_distance_list.append(abs(left[1] - right[1]))\n",
    "    if len(hor_distance_list) == 0:\n",
    "        continue\n",
    "        \n",
    "    ver_distance_list = list()\n",
    "    for left in ver_list:\n",
    "        for right in ver_list:\n",
    "            ver_distance_list.append(abs(left[0] - right[0]))\n",
    "    if len(ver_distance_list) == 0:\n",
    "        continue\n",
    "        \n",
    "    max_hor = max(hor_distance_list)\n",
    "    max_ver = max(ver_distance_list)\n",
    "    \n",
    "    is_square = False\n",
    "    if abs(max_hor - max_ver) < 6:\n",
    "        square_amount += 1\n",
    "        is_square = True\n",
    "    print(resized_line_image_index, is_square, max_hor, max_ver)\n",
    "        \n",
    "print(f\"Expected: {prepared_image.label}\")\n",
    "print(f\"Actual: {square_amount}\")"
   ]
  },
  {
   "cell_type": "markdown",
   "id": "e7299026-7457-4e48-b69c-46b91d30e091",
   "metadata": {},
   "source": [
    "# Prod"
   ]
  },
  {
   "cell_type": "code",
   "execution_count": 7,
   "id": "4b3038bd-c547-44b5-8c61-62debdbdf024",
   "metadata": {},
   "outputs": [],
   "source": [
    "from gamma_util import general_util\n",
    "import importlib\n",
    "importlib.reload(general_util)\n",
    "import time\n",
    "\n",
    "# prepared_image_list = list()\n",
    "# for row_index, row in train_df.iterrows():\n",
    "#     if row_index % 50 == 0:\n",
    "#         print(row_index)\n",
    "#     prepared_image = general_util.create_prepared_image(row)\n",
    "#     prepared_image_list.append(prepared_image)"
   ]
  },
  {
   "cell_type": "code",
   "execution_count": 8,
   "id": "f755a817-4b2e-470e-8836-6d29a7f97fd3",
   "metadata": {},
   "outputs": [],
   "source": [
    "# import pickle\n",
    "\n",
    "# with open('prepared_image_cache_v80', 'wb') as f:\n",
    "#     pickle.dump(prepared_image_list, f)"
   ]
  },
  {
   "cell_type": "code",
   "execution_count": 17,
   "id": "06200870-4d2e-45cb-9c07-1191b59a41f8",
   "metadata": {},
   "outputs": [
    {
     "data": {
      "text/plain": [
       "3000"
      ]
     },
     "execution_count": 17,
     "metadata": {},
     "output_type": "execute_result"
    }
   ],
   "source": [
    "import pickle\n",
    "\n",
    "with open('prepared_image_cache_v80', 'rb') as f:\n",
    "    prepared_image_list = pickle.load(f)\n",
    "len(prepared_image_list)"
   ]
  },
  {
   "cell_type": "code",
   "execution_count": 18,
   "id": "8b020955-0adb-423f-aee8-4515ba4acce2",
   "metadata": {},
   "outputs": [
    {
     "name": "stdout",
     "output_type": "stream",
     "text": [
      "7\n",
      "Image empty\n",
      "Image empty\n"
     ]
    },
    {
     "data": {
      "image/png": "[encoded data removed]",
      "text/plain": [
       "<Figure size 432x288 with 1 Axes>"
      ]
     },
     "metadata": {
      "needs_background": "light"
     },
     "output_type": "display_data"
    },
    {
     "data": {
      "image/png": "[encoded data removed]",
      "text/plain": [
       "<Figure size 432x288 with 1 Axes>"
      ]
     },
     "metadata": {
      "needs_background": "light"
     },
     "output_type": "display_data"
    },
    {
     "data": {
      "image/png": "[encoded data removed]",
      "text/plain": [
       "<Figure size 432x288 with 1 Axes>"
      ]
     },
     "metadata": {
      "needs_background": "light"
     },
     "output_type": "display_data"
    },
    {
     "data": {
      "image/png": "[encoded data removed]",
      "text/plain": [
       "<Figure size 432x288 with 1 Axes>"
      ]
     },
     "metadata": {
      "needs_background": "light"
     },
     "output_type": "display_data"
    },
    {
     "data": {
      "image/png": "[encoded data removed]",
      "text/plain": [
       "<Figure size 432x288 with 1 Axes>"
      ]
     },
     "metadata": {
      "needs_background": "light"
     },
     "output_type": "display_data"
    },
    {
     "data": {
      "image/png": "[encoded data removed]",
      "text/plain": [
       "<Figure size 432x288 with 1 Axes>"
      ]
     },
     "metadata": {
      "needs_background": "light"
     },
     "output_type": "display_data"
    },
    {
     "data": {
      "image/png": "[encoded data removed]",
      "text/plain": [
       "<Figure size 432x288 with 1 Axes>"
      ]
     },
     "metadata": {
      "needs_background": "light"
     },
     "output_type": "display_data"
    },
    {
     "data": {
      "image/png": "[encoded data removed]",
      "text/plain": [
       "<Figure size 432x288 with 1 Axes>"
      ]
     },
     "metadata": {
      "needs_background": "light"
     },
     "output_type": "display_data"
    },
    {
     "data": {
      "image/png": "[encoded data removed]",
      "text/plain": [
       "<Figure size 432x288 with 1 Axes>"
      ]
     },
     "metadata": {
      "needs_background": "light"
     },
     "output_type": "display_data"
    },
    {
     "data": {
      "image/png": "[encoded data removed]",
      "text/plain": [
       "<Figure size 432x288 with 1 Axes>"
      ]
     },
     "metadata": {
      "needs_background": "light"
     },
     "output_type": "display_data"
    },
    {
     "data": {
      "image/png": "[encoded data removed]",
      "text/plain": [
       "<Figure size 432x288 with 1 Axes>"
      ]
     },
     "metadata": {
      "needs_background": "light"
     },
     "output_type": "display_data"
    }
   ],
   "source": [
    "e = prepared_image_list[1]\n",
    "plt.figure()\n",
    "plt.imshow(\n",
    "    Image.fromarray(e.input_image)\n",
    ")\n",
    "print(e.label)\n",
    "for im in e.resized_line_image_list:\n",
    "    if im.image_arr.sum() == 0:\n",
    "        print(\"Image empty\")\n",
    "        continue\n",
    "    plt.figure()\n",
    "    plt.imshow(im.image_arr, cmap='binary')"
   ]
  },
  {
   "cell_type": "code",
   "execution_count": 19,
   "id": "c78a64cd-1769-4a88-b86b-e5a03ed263b8",
   "metadata": {},
   "outputs": [],
   "source": [
    "full_line_image_array = np.zeros((\n",
    "    len(prepared_image_list),\n",
    "    20,\n",
    "    80,\n",
    "    80\n",
    "))\n",
    "full_label_array = np.zeros((\n",
    "    len(prepared_image_list),\n",
    "))\n",
    "full_type_array = np.zeros((\n",
    "    len(prepared_image_list),\n",
    "))\n",
    "\n",
    "for prepared_image_index, prepared_image in enumerate(prepared_image_list):\n",
    "    line_image_index = 0\n",
    "    for line_image in prepared_image.resized_line_image_list:\n",
    "        if line_image.image_arr.sum() == 0:\n",
    "            continue\n",
    "        full_line_image_array[prepared_image_index, line_image_index, :, :] = line_image.image_arr\n",
    "        line_image_index += 1\n",
    "    assert prepared_image.label is not None\n",
    "    full_label_array[prepared_image_index] = prepared_image.label\n",
    "    assert prepared_image.image_type is not None\n",
    "    full_type_array[prepared_image_index] = prepared_image.image_type"
   ]
  },
  {
   "cell_type": "code",
   "execution_count": 20,
   "id": "62e8311a-7774-4312-ac75-badfa82bc7ce",
   "metadata": {},
   "outputs": [],
   "source": [
    "from sklearn.model_selection import train_test_split\n",
    "from sklearn.model_selection import StratifiedKFold\n",
    "\n",
    "kfold = StratifiedKFold(n_splits=4, random_state=42, shuffle=True)\n",
    "train_indices, test_eval_indices = list(kfold.split(full_line_image_array, full_type_array))[0]"
   ]
  },
  {
   "cell_type": "code",
   "execution_count": 21,
   "id": "8c3f150e-c2e7-472c-ac44-ca68fcea05f9",
   "metadata": {},
   "outputs": [],
   "source": [
    "X_train = full_line_image_array[train_indices]\n",
    "train_prepared_images = np.array(prepared_image_list)[train_indices]\n",
    "y_train = full_label_array[train_indices]\n",
    "types_train = full_type_array[train_indices]\n",
    "\n",
    "X_test_eval = full_line_image_array[test_eval_indices]\n",
    "test_eval_prepared_images = np.array(prepared_image_list)[test_eval_indices]\n",
    "y_test_eval = full_label_array[test_eval_indices]\n",
    "types_test_eval = full_type_array[test_eval_indices]"
   ]
  },
  {
   "cell_type": "code",
   "execution_count": 22,
   "id": "f0710633-5704-4ca8-b6f1-77d5bd8faa9c",
   "metadata": {},
   "outputs": [
    {
     "name": "stdout",
     "output_type": "stream",
     "text": [
      "(375, 20, 80, 80)\n",
      "(375, 20, 80, 80)\n"
     ]
    }
   ],
   "source": [
    "test_kfold = StratifiedKFold(n_splits=2, random_state=42, shuffle=True)\n",
    "test_indices, eval_indices = list(test_kfold.split(X_test_eval, types_test_eval))[0]\n",
    "\n",
    "X_test = X_test_eval[test_indices]\n",
    "test_prepared_images = np.array(test_eval_prepared_images)[test_indices]\n",
    "y_test = y_test_eval[test_indices]\n",
    "print(X_test.shape)\n",
    "\n",
    "X_eval = X_test_eval[eval_indices]\n",
    "eval_prepared_images = np.array(test_eval_prepared_images)[eval_indices]\n",
    "y_eval = y_test_eval[eval_indices]\n",
    "print(X_eval.shape)"
   ]
  },
  {
   "cell_type": "code",
   "execution_count": 79,
   "id": "f8bfeca9-d505-4f75-9329-63e27e76191a",
   "metadata": {},
   "outputs": [
    {
     "name": "stdout",
     "output_type": "stream",
     "text": [
      "(None, 20, 80, 80, 1)\n",
      "(None, 1)\n",
      "Model: \"sequential_26\"\n",
      "_________________________________________________________________\n",
      " Layer (type)                Output Shape              Param #   \n",
      "=================================================================\n",
      " conv2d_104 (Conv2D)         (None, 20, 38, 38, 8)     208       \n",
      "                                                                 \n",
      " max_pooling3d_56 (MaxPoolin  (None, 20, 19, 19, 8)    0         \n",
      " g3D)                                                            \n",
      "                                                                 \n",
      " conv2d_105 (Conv2D)         (None, 20, 19, 19, 8)     584       \n",
      "                                                                 \n",
      " max_pooling3d_57 (MaxPoolin  (None, 20, 9, 9, 8)      0         \n",
      " g3D)                                                            \n",
      "                                                                 \n",
      " reshape_26 (Reshape)        (None, 1, 20, 648)        0         \n",
      "                                                                 \n",
      " permute_49 (Permute)        (None, 20, 648, 1)        0         \n",
      "                                                                 \n",
      " conv2d_106 (Conv2D)         (None, 20, 1, 10)         6490      \n",
      "                                                                 \n",
      " permute_50 (Permute)        (None, 20, 10, 1)         0         \n",
      "                                                                 \n",
      " conv2d_107 (Conv2D)         (None, 20, 1, 1)          11        \n",
      "                                                                 \n",
      " average_pooling2d_22 (Avera  (None, 1, 1, 1)          0         \n",
      " gePooling2D)                                                    \n",
      "                                                                 \n",
      " flatten_22 (Flatten)        (None, 1)                 0         \n",
      "                                                                 \n",
      "=================================================================\n",
      "Total params: 7,293\n",
      "Trainable params: 7,293\n",
      "Non-trainable params: 0\n",
      "_________________________________________________________________\n"
     ]
    }
   ],
   "source": [
    "import tensorflow as tf\n",
    "from tensorflow.keras import datasets, layers, models\n",
    "from tensorflow.keras import regularizers\n",
    "\n",
    "model = models.Sequential()\n",
    "\n",
    "model.add(layers.Conv2D(8, (5, 5), strides=2, activation='relu', input_shape=(20, 80, 80, 1)))\n",
    "model.add(layers.MaxPooling3D((1, 2, 2)))\n",
    "\n",
    "model.add(layers.Conv2D(8, (3, 3), activation='relu', kernel_regularizer=regularizers.L1(l1=1e-5), padding=\"same\"))\n",
    "model.add(layers.MaxPooling3D((1, 2, 2)))\n",
    "\n",
    "# model.add(layers.Conv2D(16, (3, 3), activation='relu', kernel_regularizer=regularizers.L1(l1=1e-5), padding=\"same\"))\n",
    "# model.add(layers.MaxPooling3D((1, 2, 2)))\n",
    "\n",
    "# model.add(layers.Conv2D(8, (3, 3), activation='relu', kernel_regularizer=regularizers.L1(l1=1e-5), padding=\"same\"))\n",
    "# model.add(layers.MaxPooling3D((1, 2, 2)))\n",
    "\n",
    "# model.add(layers.Conv2D(8, (3, 3), activation='relu', kernel_regularizer=regularizers.L1(l1=1e-5), padding=\"same\"))\n",
    "# model.add(layers.MaxPooling3D((1, 3, 3)))\n",
    "\n",
    "# model.add(layers.Dropout(.2))\n",
    "\n",
    "model.add(layers.Reshape((1, 20, -1)))\n",
    "model.add(layers.Permute((2, 3, 1)))\n",
    "model.add(layers.Conv2D(10, (1, 648)))\n",
    "model.add(layers.Permute((1, 3, 2)))\n",
    "model.add(layers.Conv2D(1, (1,10)))\n",
    "\n",
    "model.add(layers.AveragePooling2D((20,1)))\n",
    "model.add(layers.Flatten())\n",
    "\n",
    "model.compile(\n",
    "    optimizer='adam',\n",
    "    loss=tf.keras.losses.MeanSquaredError(),\n",
    ")\n",
    "print(model.input_shape)\n",
    "print(model.output_shape)\n",
    "model.summary()"
   ]
  },
  {
   "cell_type": "code",
   "execution_count": 80,
   "id": "7d98fcaa-4912-48fb-80bb-d68c95d65062",
   "metadata": {},
   "outputs": [],
   "source": [
    "from tensorflow.keras.callbacks import ModelCheckpoint \n",
    "checkpoint = ModelCheckpoint(\n",
    "    filepath='best_model_{epoch:02d}-{val_loss:.2f}.hdf5',\n",
    "    save_best_only=True,\n",
    ")"
   ]
  },
  {
   "cell_type": "code",
   "execution_count": 81,
   "id": "e82646b8-4ba6-4805-9039-9a3cbc973b9c",
   "metadata": {},
   "outputs": [
    {
     "name": "stdout",
     "output_type": "stream",
     "text": [
      "Epoch 1/100\n",
      "71/71 [==============================] - 2s 14ms/step - loss: 12.9444 - val_loss: 3.0028\n",
      "Epoch 2/100\n",
      "71/71 [==============================] - 1s 11ms/step - loss: 1.6563 - val_loss: 0.9484\n",
      "Epoch 3/100\n",
      "71/71 [==============================] - 1s 11ms/step - loss: 0.7103 - val_loss: 0.6440\n",
      "Epoch 4/100\n",
      "71/71 [==============================] - 1s 10ms/step - loss: 0.4687 - val_loss: 0.4104\n",
      "Epoch 5/100\n",
      "71/71 [==============================] - 1s 12ms/step - loss: 0.3125 - val_loss: 0.2622\n",
      "Epoch 6/100\n",
      "71/71 [==============================] - 1s 10ms/step - loss: 0.2120 - val_loss: 0.1833\n",
      "Epoch 7/100\n",
      "71/71 [==============================] - 1s 11ms/step - loss: 0.1669 - val_loss: 0.1563\n",
      "Epoch 8/100\n",
      "71/71 [==============================] - 1s 10ms/step - loss: 0.1519 - val_loss: 0.1449\n",
      "Epoch 9/100\n",
      "71/71 [==============================] - 1s 10ms/step - loss: 0.1442 - val_loss: 0.1401\n",
      "Epoch 10/100\n",
      "71/71 [==============================] - 1s 10ms/step - loss: 0.1403 - val_loss: 0.1327\n",
      "Epoch 11/100\n",
      "71/71 [==============================] - 1s 10ms/step - loss: 0.1423 - val_loss: 0.1277\n",
      "Epoch 12/100\n",
      "71/71 [==============================] - 1s 11ms/step - loss: 0.1347 - val_loss: 0.1409\n",
      "Epoch 13/100\n",
      "71/71 [==============================] - 1s 11ms/step - loss: 0.1323 - val_loss: 0.1387\n",
      "Epoch 14/100\n",
      "71/71 [==============================] - 1s 11ms/step - loss: 0.1327 - val_loss: 0.1225\n",
      "Epoch 15/100\n",
      "71/71 [==============================] - 1s 10ms/step - loss: 0.1332 - val_loss: 0.1201\n",
      "Epoch 16/100\n",
      "71/71 [==============================] - 1s 9ms/step - loss: 0.1330 - val_loss: 0.1374\n",
      "Epoch 17/100\n",
      "71/71 [==============================] - 1s 11ms/step - loss: 0.1323 - val_loss: 0.1198\n",
      "Epoch 18/100\n",
      "71/71 [==============================] - 1s 11ms/step - loss: 0.1370 - val_loss: 0.1205\n",
      "Epoch 19/100\n",
      "71/71 [==============================] - 1s 11ms/step - loss: 0.1297 - val_loss: 0.1170\n",
      "Epoch 20/100\n",
      "71/71 [==============================] - 1s 11ms/step - loss: 0.1292 - val_loss: 0.1283\n",
      "Epoch 21/100\n",
      "71/71 [==============================] - 1s 10ms/step - loss: 0.1320 - val_loss: 0.1163\n",
      "Epoch 22/100\n",
      "71/71 [==============================] - 1s 10ms/step - loss: 0.1302 - val_loss: 0.1197\n",
      "Epoch 23/100\n",
      "71/71 [==============================] - 1s 10ms/step - loss: 0.1277 - val_loss: 0.1169\n",
      "Epoch 24/100\n",
      "71/71 [==============================] - 1s 11ms/step - loss: 0.1271 - val_loss: 0.1150\n",
      "Epoch 25/100\n",
      "71/71 [==============================] - 1s 10ms/step - loss: 0.1248 - val_loss: 0.1193\n",
      "Epoch 26/100\n",
      "71/71 [==============================] - 1s 10ms/step - loss: 0.1247 - val_loss: 0.1234\n",
      "Epoch 27/100\n",
      "71/71 [==============================] - 1s 11ms/step - loss: 0.1245 - val_loss: 0.1260\n",
      "Epoch 28/100\n",
      "71/71 [==============================] - 1s 11ms/step - loss: 0.1238 - val_loss: 0.1183\n",
      "Epoch 29/100\n",
      "71/71 [==============================] - 1s 11ms/step - loss: 0.1272 - val_loss: 0.1127\n",
      "Epoch 30/100\n",
      "71/71 [==============================] - 1s 12ms/step - loss: 0.1241 - val_loss: 0.1110\n",
      "Epoch 31/100\n",
      "71/71 [==============================] - 1s 13ms/step - loss: 0.1431 - val_loss: 0.1240\n",
      "Epoch 32/100\n",
      "71/71 [==============================] - 1s 12ms/step - loss: 0.1282 - val_loss: 0.1098\n",
      "Epoch 33/100\n",
      "71/71 [==============================] - 1s 11ms/step - loss: 0.1213 - val_loss: 0.1135\n",
      "Epoch 34/100\n",
      "71/71 [==============================] - 1s 12ms/step - loss: 0.1242 - val_loss: 0.1107\n",
      "Epoch 35/100\n",
      "71/71 [==============================] - 1s 10ms/step - loss: 0.1213 - val_loss: 0.1158\n",
      "Epoch 36/100\n",
      "71/71 [==============================] - 1s 11ms/step - loss: 0.1235 - val_loss: 0.1095\n",
      "Epoch 37/100\n",
      "71/71 [==============================] - 1s 11ms/step - loss: 0.1202 - val_loss: 0.1094\n",
      "Epoch 38/100\n",
      "71/71 [==============================] - 1s 10ms/step - loss: 0.1187 - val_loss: 0.1242\n",
      "Epoch 39/100\n",
      "71/71 [==============================] - 1s 10ms/step - loss: 0.1203 - val_loss: 0.1311\n",
      "Epoch 40/100\n",
      "71/71 [==============================] - 1s 11ms/step - loss: 0.1243 - val_loss: 0.1085\n",
      "Epoch 41/100\n",
      "71/71 [==============================] - 1s 12ms/step - loss: 0.1233 - val_loss: 0.1074\n",
      "Epoch 42/100\n",
      "71/71 [==============================] - 1s 12ms/step - loss: 0.1192 - val_loss: 0.1109\n",
      "Epoch 43/100\n",
      "71/71 [==============================] - 1s 12ms/step - loss: 0.1254 - val_loss: 0.1260\n",
      "Epoch 44/100\n",
      "71/71 [==============================] - 1s 21ms/step - loss: 0.1197 - val_loss: 0.1059\n",
      "Epoch 45/100\n",
      "71/71 [==============================] - 1s 13ms/step - loss: 0.1182 - val_loss: 0.1086\n",
      "Epoch 46/100\n",
      "71/71 [==============================] - 1s 12ms/step - loss: 0.1164 - val_loss: 0.1095\n",
      "Epoch 47/100\n",
      "71/71 [==============================] - 1s 11ms/step - loss: 0.1143 - val_loss: 0.1046\n",
      "Epoch 48/100\n",
      "71/71 [==============================] - 1s 16ms/step - loss: 0.1150 - val_loss: 0.1051\n",
      "Epoch 49/100\n",
      "71/71 [==============================] - 1s 10ms/step - loss: 0.1206 - val_loss: 0.1044\n",
      "Epoch 50/100\n",
      "71/71 [==============================] - 1s 10ms/step - loss: 0.1158 - val_loss: 0.1147\n",
      "Epoch 51/100\n",
      "71/71 [==============================] - 1s 12ms/step - loss: 0.1167 - val_loss: 0.1021\n",
      "Epoch 52/100\n",
      "71/71 [==============================] - 1s 10ms/step - loss: 0.1174 - val_loss: 0.1029\n",
      "Epoch 53/100\n",
      "71/71 [==============================] - 1s 11ms/step - loss: 0.1149 - val_loss: 0.1201\n",
      "Epoch 54/100\n",
      "71/71 [==============================] - 1s 10ms/step - loss: 0.1200 - val_loss: 0.1068\n",
      "Epoch 55/100\n",
      "71/71 [==============================] - 1s 11ms/step - loss: 0.1152 - val_loss: 0.1048\n",
      "Epoch 56/100\n",
      "71/71 [==============================] - 1s 10ms/step - loss: 0.1147 - val_loss: 0.1019\n",
      "Epoch 57/100\n",
      "71/71 [==============================] - 1s 9ms/step - loss: 0.1265 - val_loss: 0.1007\n",
      "Epoch 58/100\n",
      "71/71 [==============================] - 1s 10ms/step - loss: 0.1189 - val_loss: 0.1011\n",
      "Epoch 59/100\n",
      "71/71 [==============================] - 1s 10ms/step - loss: 0.1114 - val_loss: 0.1179\n",
      "Epoch 60/100\n",
      "71/71 [==============================] - 1s 11ms/step - loss: 0.1212 - val_loss: 0.1212\n",
      "Epoch 61/100\n",
      "71/71 [==============================] - 1s 10ms/step - loss: 0.1126 - val_loss: 0.1127\n",
      "Epoch 62/100\n",
      "71/71 [==============================] - 1s 10ms/step - loss: 0.1143 - val_loss: 0.1461\n",
      "Epoch 63/100\n",
      "71/71 [==============================] - 1s 10ms/step - loss: 0.1190 - val_loss: 0.1039\n",
      "Epoch 64/100\n",
      "71/71 [==============================] - 1s 11ms/step - loss: 0.1136 - val_loss: 0.1000\n",
      "Epoch 65/100\n",
      "71/71 [==============================] - 1s 11ms/step - loss: 0.1127 - val_loss: 0.1129\n",
      "Epoch 66/100\n",
      "71/71 [==============================] - 1s 11ms/step - loss: 0.1176 - val_loss: 0.1067\n",
      "Epoch 67/100\n",
      "71/71 [==============================] - 1s 10ms/step - loss: 0.1136 - val_loss: 0.1066\n",
      "Epoch 68/100\n",
      "71/71 [==============================] - 1s 11ms/step - loss: 0.1140 - val_loss: 0.1005\n",
      "Epoch 69/100\n",
      "71/71 [==============================] - 1s 11ms/step - loss: 0.1097 - val_loss: 0.0993\n",
      "Epoch 70/100\n",
      "71/71 [==============================] - 1s 10ms/step - loss: 0.1088 - val_loss: 0.1000\n",
      "Epoch 71/100\n",
      "71/71 [==============================] - 1s 10ms/step - loss: 0.1106 - val_loss: 0.0996\n",
      "Epoch 72/100\n",
      "71/71 [==============================] - 1s 11ms/step - loss: 0.1093 - val_loss: 0.0994\n",
      "Epoch 73/100\n",
      "71/71 [==============================] - 1s 10ms/step - loss: 0.1106 - val_loss: 0.0996\n",
      "Epoch 74/100\n",
      "71/71 [==============================] - 1s 11ms/step - loss: 0.1102 - val_loss: 0.0985\n",
      "Epoch 75/100\n",
      "71/71 [==============================] - 1s 11ms/step - loss: 0.1148 - val_loss: 0.1054\n",
      "Epoch 76/100\n",
      "71/71 [==============================] - 1s 10ms/step - loss: 0.1105 - val_loss: 0.1095\n",
      "Epoch 77/100\n",
      "71/71 [==============================] - 1s 10ms/step - loss: 0.1169 - val_loss: 0.0998\n",
      "Epoch 78/100\n",
      "71/71 [==============================] - 1s 11ms/step - loss: 0.1143 - val_loss: 0.1063\n",
      "Epoch 79/100\n",
      "71/71 [==============================] - 1s 10ms/step - loss: 0.1076 - val_loss: 0.0982\n",
      "Epoch 80/100\n",
      "71/71 [==============================] - 1s 11ms/step - loss: 0.1065 - val_loss: 0.0986\n",
      "Epoch 81/100\n",
      "71/71 [==============================] - 1s 9ms/step - loss: 0.1119 - val_loss: 0.1164\n",
      "Epoch 82/100\n",
      "71/71 [==============================] - 1s 12ms/step - loss: 0.1066 - val_loss: 0.0978\n",
      "Epoch 83/100\n",
      "71/71 [==============================] - 1s 11ms/step - loss: 0.1069 - val_loss: 0.0974\n",
      "Epoch 84/100\n",
      "71/71 [==============================] - 1s 11ms/step - loss: 0.1082 - val_loss: 0.1021\n",
      "Epoch 85/100\n",
      "71/71 [==============================] - 1s 11ms/step - loss: 0.1078 - val_loss: 0.1219\n",
      "Epoch 86/100\n",
      "71/71 [==============================] - 1s 11ms/step - loss: 0.1111 - val_loss: 0.0972\n",
      "Epoch 87/100\n",
      "71/71 [==============================] - 1s 10ms/step - loss: 0.1040 - val_loss: 0.1040\n",
      "Epoch 88/100\n",
      "71/71 [==============================] - 1s 10ms/step - loss: 0.1094 - val_loss: 0.0982\n",
      "Epoch 89/100\n",
      "71/71 [==============================] - 1s 10ms/step - loss: 0.1046 - val_loss: 0.1115\n",
      "Epoch 90/100\n",
      "71/71 [==============================] - 1s 10ms/step - loss: 0.1133 - val_loss: 0.1037\n",
      "Epoch 91/100\n",
      "71/71 [==============================] - 1s 11ms/step - loss: 0.1087 - val_loss: 0.0989\n",
      "Epoch 92/100\n",
      "71/71 [==============================] - 1s 12ms/step - loss: 0.1077 - val_loss: 0.1175\n",
      "Epoch 93/100\n",
      "71/71 [==============================] - 1s 11ms/step - loss: 0.1169 - val_loss: 0.0965\n",
      "Epoch 94/100\n",
      "71/71 [==============================] - 1s 11ms/step - loss: 0.1069 - val_loss: 0.0974\n",
      "Epoch 95/100\n",
      "71/71 [==============================] - 1s 10ms/step - loss: 0.1036 - val_loss: 0.1005\n",
      "Epoch 96/100\n",
      "71/71 [==============================] - 1s 12ms/step - loss: 0.1019 - val_loss: 0.1040\n",
      "Epoch 97/100\n",
      "71/71 [==============================] - 1s 11ms/step - loss: 0.1041 - val_loss: 0.0978\n",
      "Epoch 98/100\n",
      "71/71 [==============================] - 1s 10ms/step - loss: 0.1080 - val_loss: 0.1002\n",
      "Epoch 99/100\n",
      "71/71 [==============================] - 1s 10ms/step - loss: 0.1042 - val_loss: 0.0979\n",
      "Epoch 100/100\n",
      "71/71 [==============================] - 1s 12ms/step - loss: 0.1034 - val_loss: 0.0966\n"
     ]
    }
   ],
   "source": [
    "history = model.fit(\n",
    "    X_train,\n",
    "    y_train,\n",
    "    validation_data=(\n",
    "        X_eval,\n",
    "        y_eval,\n",
    "    ),\n",
    "    epochs=100, \n",
    "    callbacks=[checkpoint],\n",
    "    verbose=1\n",
    ")"
   ]
  },
  {
   "cell_type": "code",
   "execution_count": 82,
   "id": "c28531c4-717e-46ed-be05-849c1b1a5172",
   "metadata": {},
   "outputs": [
    {
     "name": "stdout",
     "output_type": "stream",
     "text": [
      "12/12 [==============================] - 0s 4ms/step\n"
     ]
    }
   ],
   "source": [
    "y_pred = model.predict(\n",
    "    X_test,\n",
    ")[:,0]\n",
    "y_pred = np.round(y_pred)"
   ]
  },
  {
   "cell_type": "code",
   "execution_count": 83,
   "id": "1282d454-1e3e-41d6-925c-b69c5c7ed42c",
   "metadata": {},
   "outputs": [
    {
     "data": {
      "text/plain": [
       "0.13066666666666665"
      ]
     },
     "execution_count": 83,
     "metadata": {},
     "output_type": "execute_result"
    }
   ],
   "source": [
    "from sklearn.metrics import mean_squared_error\n",
    "\n",
    "# 2.525\n",
    "# 2.39\n",
    "# 2.21\n",
    "# 1.664\n",
    "# 0.35\n",
    "# 0.224\n",
    "mse = mean_squared_error(y_test, y_pred)\n",
    "mse"
   ]
  },
  {
   "cell_type": "code",
   "execution_count": 84,
   "id": "8e7bee9a-b6e8-40e8-b392-804d94a2804c",
   "metadata": {},
   "outputs": [
    {
     "name": "stdout",
     "output_type": "stream",
     "text": [
      "Expected: 8\n",
      "Actual: 8.0\n"
     ]
    },
    {
     "name": "stderr",
     "output_type": "stream",
     "text": [
      "<ipython-input-84-4857c0376e4b>:9: RuntimeWarning: More than 20 figures have been opened. Figures created through the pyplot interface (`matplotlib.pyplot.figure`) are retained until explicitly closed and may consume too much memory. (To control this warning, see the rcParam `figure.max_open_warning`).\n",
      "  plt.figure()\n"
     ]
    },
    {
     "data": {
      "image/png": "[encoded data removed]",
      "text/plain": [
       "<Figure size 432x288 with 1 Axes>"
      ]
     },
     "metadata": {
      "needs_background": "light"
     },
     "output_type": "display_data"
    },
    {
     "data": {
      "image/png": "[encoded data removed]",
      "text/plain": [
       "<Figure size 432x288 with 1 Axes>"
      ]
     },
     "metadata": {
      "needs_background": "light"
     },
     "output_type": "display_data"
    },
    {
     "data": {
      "image/png": "[encoded data removed]",
      "text/plain": [
       "<Figure size 432x288 with 1 Axes>"
      ]
     },
     "metadata": {
      "needs_background": "light"
     },
     "output_type": "display_data"
    },
    {
     "data": {
      "image/png": "[encoded data removed]",
      "text/plain": [
       "<Figure size 432x288 with 1 Axes>"
      ]
     },
     "metadata": {
      "needs_background": "light"
     },
     "output_type": "display_data"
    },
    {
     "data": {
      "image/png": "[encoded data removed]",
      "text/plain": [
       "<Figure size 432x288 with 1 Axes>"
      ]
     },
     "metadata": {
      "needs_background": "light"
     },
     "output_type": "display_data"
    },
    {
     "data": {
      "image/png": "[encoded data removed]",
      "text/plain": [
       "<Figure size 432x288 with 1 Axes>"
      ]
     },
     "metadata": {
      "needs_background": "light"
     },
     "output_type": "display_data"
    },
    {
     "data": {
      "image/png": "[encoded data removed]",
      "text/plain": [
       "<Figure size 432x288 with 1 Axes>"
      ]
     },
     "metadata": {
      "needs_background": "light"
     },
     "output_type": "display_data"
    },
    {
     "data": {
      "image/png": "[encoded data removed]",
      "text/plain": [
       "<Figure size 432x288 with 1 Axes>"
      ]
     },
     "metadata": {
      "needs_background": "light"
     },
     "output_type": "display_data"
    },
    {
     "data": {
      "image/png": "[encoded data removed]",
      "text/plain": [
       "<Figure size 432x288 with 1 Axes>"
      ]
     },
     "metadata": {
      "needs_background": "light"
     },
     "output_type": "display_data"
    },
    {
     "data": {
      "image/png": "[encoded data removed]",
      "text/plain": [
       "<Figure size 432x288 with 1 Axes>"
      ]
     },
     "metadata": {
      "needs_background": "light"
     },
     "output_type": "display_data"
    },
    {
     "data": {
      "image/png": "[encoded data removed]",
      "text/plain": [
       "<Figure size 432x288 with 1 Axes>"
      ]
     },
     "metadata": {
      "needs_background": "light"
     },
     "output_type": "display_data"
    },
    {
     "data": {
      "image/png": "[encoded data removed]",
      "text/plain": [
       "<Figure size 432x288 with 1 Axes>"
      ]
     },
     "metadata": {
      "needs_background": "light"
     },
     "output_type": "display_data"
    },
    {
     "data": {
      "image/png": "[encoded data removed]",
      "text/plain": [
       "<Figure size 432x288 with 1 Axes>"
      ]
     },
     "metadata": {
      "needs_background": "light"
     },
     "output_type": "display_data"
    },
    {
     "data": {
      "image/png": "[encoded data removed]",
      "text/plain": [
       "<Figure size 432x288 with 1 Axes>"
      ]
     },
     "metadata": {
      "needs_background": "light"
     },
     "output_type": "display_data"
    },
    {
     "data": {
      "image/png": "[encoded data removed]",
      "text/plain": [
       "<Figure size 432x288 with 1 Axes>"
      ]
     },
     "metadata": {
      "needs_background": "light"
     },
     "output_type": "display_data"
    },
    {
     "data": {
      "image/png": "[encoded data removed]",
      "text/plain": [
       "<Figure size 432x288 with 1 Axes>"
      ]
     },
     "metadata": {
      "needs_background": "light"
     },
     "output_type": "display_data"
    },
    {
     "data": {
      "image/png": "[encoded data removed]",
      "text/plain": [
       "<Figure size 432x288 with 1 Axes>"
      ]
     },
     "metadata": {
      "needs_background": "light"
     },
     "output_type": "display_data"
    },
    {
     "data": {
      "image/png": "[encoded data removed]",
      "text/plain": [
       "<Figure size 432x288 with 1 Axes>"
      ]
     },
     "metadata": {
      "needs_background": "light"
     },
     "output_type": "display_data"
    },
    {
     "data": {
      "image/png": "[encoded data removed]",
      "text/plain": [
       "<Figure size 432x288 with 1 Axes>"
      ]
     },
     "metadata": {
      "needs_background": "light"
     },
     "output_type": "display_data"
    },
    {
     "data": {
      "image/png": "[encoded data removed]",
      "text/plain": [
       "<Figure size 432x288 with 1 Axes>"
      ]
     },
     "metadata": {
      "needs_background": "light"
     },
     "output_type": "display_data"
    },
    {
     "data": {
      "image/png": "[encoded data removed]",
      "text/plain": [
       "<Figure size 432x288 with 1 Axes>"
      ]
     },
     "metadata": {
      "needs_background": "light"
     },
     "output_type": "display_data"
    }
   ],
   "source": [
    "chosen_test_image = 18\n",
    "\n",
    "print(f\"Expected: {test_prepared_images[chosen_test_image].label}\")\n",
    "print(f\"Actual: {y_pred[chosen_test_image]}\")\n",
    "plt.imshow(\n",
    "    Image.fromarray(test_prepared_images[chosen_test_image].input_image)\n",
    ")\n",
    "for sub_image in X_test[chosen_test_image]:\n",
    "    plt.figure()\n",
    "    plt.imshow(sub_image)"
   ]
  },
  {
   "cell_type": "code",
   "execution_count": 459,
   "id": "26c6dc89-2dca-43fa-83f3-8dcbc132b56f",
   "metadata": {},
   "outputs": [],
   "source": [
    "# model.save(\"real_best_model_today_v6_09.hdf5\", include_optimizer=True)"
   ]
  },
  {
   "cell_type": "code",
   "execution_count": 460,
   "id": "1859a27f-7163-4f40-8d4e-b592b0fb76d4",
   "metadata": {},
   "outputs": [],
   "source": [
    "# !cp real_best_model_today_v4.hdf5 /aux/data"
   ]
  },
  {
   "cell_type": "code",
   "execution_count": 85,
   "id": "20fbe1b0-fe51-4c04-b902-a7a3eb9959c9",
   "metadata": {},
   "outputs": [
    {
     "name": "stdout",
     "output_type": "stream",
     "text": [
      "0.8853333333333333\n"
     ]
    },
    {
     "data": {
      "text/plain": [
       " 0.0    332\n",
       " 1.0     27\n",
       "-1.0     14\n",
       " 2.0      2\n",
       "dtype: int64"
      ]
     },
     "execution_count": 85,
     "metadata": {},
     "output_type": "execute_result"
    },
    {
     "data": {
      "image/png": "[encoded data removed]",
      "text/plain": [
       "<Figure size 360x360 with 1 Axes>"
      ]
     },
     "metadata": {
      "needs_background": "light"
     },
     "output_type": "display_data"
    }
   ],
   "source": [
    "import seaborn as sns\n",
    "y_diff = y_pred - y_test\n",
    "y_percent = ((y_diff / (y_test+0.01)) * 100).astype(np.int32)\n",
    "\n",
    "sns.displot(np.clip(y_percent, -300, 300))\n",
    "y_diff_counts = pd.value_counts(y_diff)\n",
    "print(y_diff_counts[0] / y_diff_counts.sum())\n",
    "y_diff_counts[y_diff_counts.abs().sort_values(ascending=False).index]"
   ]
  },
  {
   "cell_type": "code",
   "execution_count": 86,
   "id": "72bc05c5-8c6b-4314-af52-e3e7ee0ba90c",
   "metadata": {},
   "outputs": [],
   "source": [
    "y_diff_s = pd.Series(y_diff)\n",
    "y_diff_s = y_diff_s[y_diff_s.abs() == 1]\n",
    "bad_test_indices = sorted(y_diff_s.index.to_list())\n",
    "# bad_test_indices"
   ]
  },
  {
   "cell_type": "code",
   "execution_count": 87,
   "id": "6cfd109d-ffce-4e4d-87d1-77f83bda5f2a",
   "metadata": {},
   "outputs": [
    {
     "data": {
      "text/plain": [
       "(41,)"
      ]
     },
     "execution_count": 87,
     "metadata": {},
     "output_type": "execute_result"
    }
   ],
   "source": [
    "original_indices = np.arange(len(prepared_image_list))\n",
    "bad_test_indices_original = original_indices[test_eval_indices][test_indices][bad_test_indices]\n",
    "bad_test_indices_original.shape"
   ]
  },
  {
   "cell_type": "code",
   "execution_count": 88,
   "id": "ca25456d-9014-401a-ad2d-923894676123",
   "metadata": {},
   "outputs": [
    {
     "data": {
      "text/plain": [
       "array([  91,  233,  395,  489,  515,  570,  642,  727,  769,  872,  980,\n",
       "        998, 1240, 1369, 1384, 1385, 1775, 1828, 1836, 1891, 1918, 1963,\n",
       "       2114, 2128, 2130, 2143, 2167, 2223, 2231, 2246, 2277, 2396, 2404,\n",
       "       2637, 2658, 2670, 2765, 2818, 2887, 2891, 2908])"
      ]
     },
     "execution_count": 88,
     "metadata": {},
     "output_type": "execute_result"
    }
   ],
   "source": [
    "bad_test_indices_original"
   ]
  },
  {
   "cell_type": "code",
   "execution_count": 465,
   "id": "f8c3ce80-5253-4171-b740-c04f5bf6108f",
   "metadata": {},
   "outputs": [
    {
     "name": "stdout",
     "output_type": "stream",
     "text": [
      "Expected: 5\n",
      "Actual: 7.0\n"
     ]
    },
    {
     "name": "stderr",
     "output_type": "stream",
     "text": [
      "<ipython-input-465-5336341e6822>:9: RuntimeWarning: More than 20 figures have been opened. Figures created through the pyplot interface (`matplotlib.pyplot.figure`) are retained until explicitly closed and may consume too much memory. (To control this warning, see the rcParam `figure.max_open_warning`).\n",
      "  plt.figure()\n"
     ]
    },
    {
     "data": {
      "image/png": "[encoded data removed]",
      "text/plain": [
       "<Figure size 432x288 with 1 Axes>"
      ]
     },
     "metadata": {
      "needs_background": "light"
     },
     "output_type": "display_data"
    },
    {
     "data": {
      "image/png": "[encoded data removed]",
      "text/plain": [
       "<Figure size 432x288 with 1 Axes>"
      ]
     },
     "metadata": {
      "needs_background": "light"
     },
     "output_type": "display_data"
    },
    {
     "data": {
      "image/png": "[encoded data removed]",
      "text/plain": [
       "<Figure size 432x288 with 1 Axes>"
      ]
     },
     "metadata": {
      "needs_background": "light"
     },
     "output_type": "display_data"
    },
    {
     "data": {
      "image/png": "[encoded data removed]",
      "text/plain": [
       "<Figure size 432x288 with 1 Axes>"
      ]
     },
     "metadata": {
      "needs_background": "light"
     },
     "output_type": "display_data"
    },
    {
     "data": {
      "image/png": "[encoded data removed]",
      "text/plain": [
       "<Figure size 432x288 with 1 Axes>"
      ]
     },
     "metadata": {
      "needs_background": "light"
     },
     "output_type": "display_data"
    },
    {
     "data": {
      "image/png": "[encoded data removed]",
      "text/plain": [
       "<Figure size 432x288 with 1 Axes>"
      ]
     },
     "metadata": {
      "needs_background": "light"
     },
     "output_type": "display_data"
    },
    {
     "data": {
      "image/png": "[encoded data removed]",
      "text/plain": [
       "<Figure size 432x288 with 1 Axes>"
      ]
     },
     "metadata": {
      "needs_background": "light"
     },
     "output_type": "display_data"
    },
    {
     "data": {
      "image/png": "[encoded data removed]",
      "text/plain": [
       "<Figure size 432x288 with 1 Axes>"
      ]
     },
     "metadata": {
      "needs_background": "light"
     },
     "output_type": "display_data"
    },
    {
     "data": {
      "image/png": "[encoded data removed]",
      "text/plain": [
       "<Figure size 432x288 with 1 Axes>"
      ]
     },
     "metadata": {
      "needs_background": "light"
     },
     "output_type": "display_data"
    },
    {
     "data": {
      "image/png": "[encoded data removed]",
      "text/plain": [
       "<Figure size 432x288 with 1 Axes>"
      ]
     },
     "metadata": {
      "needs_background": "light"
     },
     "output_type": "display_data"
    },
    {
     "data": {
      "image/png": "[encoded data removed]",
      "text/plain": [
       "<Figure size 432x288 with 1 Axes>"
      ]
     },
     "metadata": {
      "needs_background": "light"
     },
     "output_type": "display_data"
    },
    {
     "data": {
      "image/png": "[encoded data removed]",
      "text/plain": [
       "<Figure size 432x288 with 1 Axes>"
      ]
     },
     "metadata": {
      "needs_background": "light"
     },
     "output_type": "display_data"
    },
    {
     "data": {
      "image/png": "[encoded data removed]",
      "text/plain": [
       "<Figure size 432x288 with 1 Axes>"
      ]
     },
     "metadata": {
      "needs_background": "light"
     },
     "output_type": "display_data"
    },
    {
     "data": {
      "image/png": "[encoded data removed]",
      "text/plain": [
       "<Figure size 432x288 with 1 Axes>"
      ]
     },
     "metadata": {
      "needs_background": "light"
     },
     "output_type": "display_data"
    },
    {
     "data": {
      "image/png": "[encoded data removed]",
      "text/plain": [
       "<Figure size 432x288 with 1 Axes>"
      ]
     },
     "metadata": {
      "needs_background": "light"
     },
     "output_type": "display_data"
    },
    {
     "data": {
      "image/png": "[encoded data removed]",
      "text/plain": [
       "<Figure size 432x288 with 1 Axes>"
      ]
     },
     "metadata": {
      "needs_background": "light"
     },
     "output_type": "display_data"
    },
    {
     "data": {
      "image/png": "[encoded data removed]",
      "text/plain": [
       "<Figure size 432x288 with 1 Axes>"
      ]
     },
     "metadata": {
      "needs_background": "light"
     },
     "output_type": "display_data"
    },
    {
     "data": {
      "image/png": "[encoded data removed]",
      "text/plain": [
       "<Figure size 432x288 with 1 Axes>"
      ]
     },
     "metadata": {
      "needs_background": "light"
     },
     "output_type": "display_data"
    },
    {
     "data": {
      "image/png": "[encoded data removed]",
      "text/plain": [
       "<Figure size 432x288 with 1 Axes>"
      ]
     },
     "metadata": {
      "needs_background": "light"
     },
     "output_type": "display_data"
    },
    {
     "data": {
      "image/png": "[encoded data removed]",
      "text/plain": [
       "<Figure size 432x288 with 1 Axes>"
      ]
     },
     "metadata": {
      "needs_background": "light"
     },
     "output_type": "display_data"
    },
    {
     "data": {
      "image/png": "[encoded data removed]",
      "text/plain": [
       "<Figure size 432x288 with 1 Axes>"
      ]
     },
     "metadata": {
      "needs_background": "light"
     },
     "output_type": "display_data"
    }
   ],
   "source": [
    "chosen_test_image = 241\n",
    "\n",
    "print(f\"Expected: {test_prepared_images[chosen_test_image].label}\")\n",
    "print(f\"Actual: {y_pred[chosen_test_image]}\")\n",
    "plt.imshow(\n",
    "    Image.fromarray(test_prepared_images[chosen_test_image].input_image)\n",
    ")\n",
    "for sub_image in X_test[chosen_test_image]:\n",
    "    plt.figure()\n",
    "    plt.imshow(sub_image)"
   ]
  },
  {
   "cell_type": "markdown",
   "id": "095dfca3-20e4-40cb-a1c5-eb7775f440cb",
   "metadata": {},
   "source": [
    "# Submit"
   ]
  },
  {
   "cell_type": "code",
   "execution_count": null,
   "id": "a291bbc4-400f-413b-90e0-0cdd222b462c",
   "metadata": {},
   "outputs": [],
   "source": [
    "assert False"
   ]
  },
  {
   "cell_type": "code",
   "execution_count": 466,
   "id": "739bb295-f746-44f6-accc-ac962c2e44e9",
   "metadata": {},
   "outputs": [
    {
     "name": "stdout",
     "output_type": "stream",
     "text": [
      "0/6000, elapsed: 0\n",
      "Removed due to excess of vertical lines\n",
      "50/6000, elapsed: 6\n",
      "Removed due to excess of vertical lines\n",
      "Removed due to excess of vertical lines\n",
      "100/6000, elapsed: 12\n",
      "Removed due to excess of vertical lines\n",
      "Removed due to excess of vertical lines\n",
      "Removed due to excess of vertical lines\n",
      "Removed due to excess of vertical lines\n",
      "150/6000, elapsed: 18\n",
      "Removed due to excess of vertical lines\n",
      "Removed due to excess of vertical lines\n",
      "200/6000, elapsed: 25\n",
      "Removed due to excess of vertical lines\n",
      "Removed due to excess of vertical lines\n",
      "Removed due to excess of vertical lines\n",
      "Removed due to excess of vertical lines\n",
      "Removed due to excess of vertical lines\n",
      "Removed due to excess of vertical lines\n",
      "250/6000, elapsed: 31\n",
      "Removed due to excess of vertical lines\n",
      "300/6000, elapsed: 36\n",
      "Removed due to excess of vertical lines\n",
      "350/6000, elapsed: 43\n",
      "Removed due to excess of vertical lines\n",
      "400/6000, elapsed: 49\n",
      "450/6000, elapsed: 55\n",
      "Removed due to excess of vertical lines\n",
      "Removed due to excess of vertical lines\n",
      "Removed due to excess of vertical lines\n",
      "Removed due to excess of vertical lines\n",
      "500/6000, elapsed: 61\n",
      "550/6000, elapsed: 67\n",
      "Removed due to excess of vertical lines\n",
      "600/6000, elapsed: 73\n",
      "Removed due to excess of vertical lines\n",
      "Removed due to excess of vertical lines\n",
      "650/6000, elapsed: 79\n",
      "Removed due to excess of vertical lines\n",
      "Removed due to excess of vertical lines\n",
      "700/6000, elapsed: 85\n",
      "Removed due to excess of vertical lines\n",
      "Removed due to excess of vertical lines\n",
      "750/6000, elapsed: 93\n",
      "Removed due to excess of vertical lines\n",
      "Removed due to excess of vertical lines\n",
      "800/6000, elapsed: 99\n",
      "Removed due to excess of vertical lines\n",
      "Removed due to excess of vertical lines\n",
      "Removed due to excess of vertical lines\n",
      "850/6000, elapsed: 105\n",
      "Removed due to excess of vertical lines\n",
      "Removed due to excess of vertical lines\n",
      "Removed due to excess of vertical lines\n",
      "Removed due to excess of vertical lines\n",
      "900/6000, elapsed: 111\n",
      "Removed due to excess of vertical lines\n",
      "Removed due to excess of vertical lines\n",
      "Removed due to excess of vertical lines\n",
      "Removed due to excess of vertical lines\n",
      "950/6000, elapsed: 117\n",
      "Removed due to excess of vertical lines\n",
      "1000/6000, elapsed: 123\n",
      "Removed due to excess of vertical lines\n",
      "1050/6000, elapsed: 129\n",
      "Removed due to excess of vertical lines\n",
      "Removed due to excess of vertical lines\n",
      "1100/6000, elapsed: 135\n",
      "Removed due to excess of vertical lines\n",
      "1150/6000, elapsed: 141\n",
      "Removed due to excess of vertical lines\n",
      "Removed due to excess of vertical lines\n",
      "1200/6000, elapsed: 147\n",
      "Removed due to excess of vertical lines\n",
      "Removed due to excess of vertical lines\n",
      "Removed due to excess of vertical lines\n",
      "1250/6000, elapsed: 153\n",
      "1300/6000, elapsed: 160\n",
      "Removed due to excess of vertical lines\n",
      "Removed due to excess of vertical lines\n",
      "1350/6000, elapsed: 166\n",
      "Removed due to excess of vertical lines\n",
      "1400/6000, elapsed: 172\n",
      "1450/6000, elapsed: 178\n",
      "Removed due to excess of vertical lines\n",
      "Removed due to excess of vertical lines\n",
      "Removed due to excess of vertical lines\n",
      "1500/6000, elapsed: 184\n",
      "Removed due to excess of vertical lines\n",
      "1550/6000, elapsed: 190\n",
      "Removed due to excess of vertical lines\n",
      "1600/6000, elapsed: 196\n",
      "1650/6000, elapsed: 202\n",
      "Removed due to excess of vertical lines\n",
      "1700/6000, elapsed: 208\n",
      "1750/6000, elapsed: 214\n",
      "Removed due to excess of vertical lines\n",
      "Removed due to excess of vertical lines\n",
      "1800/6000, elapsed: 220\n",
      "Removed due to excess of vertical lines\n",
      "1850/6000, elapsed: 226\n",
      "Removed due to excess of vertical lines\n",
      "Removed due to excess of vertical lines\n",
      "1900/6000, elapsed: 232\n",
      "Removed due to excess of vertical lines\n",
      "1950/6000, elapsed: 238\n",
      "Removed due to excess of vertical lines\n",
      "Removed due to excess of vertical lines\n",
      "Removed due to excess of vertical lines\n",
      "Removed due to excess of vertical lines\n",
      "2000/6000, elapsed: 245\n",
      "Removed due to excess of vertical lines\n",
      "Removed due to excess of vertical lines\n",
      "Removed due to excess of vertical lines\n",
      "Removed due to excess of vertical lines\n",
      "Removed due to excess of vertical lines\n",
      "2050/6000, elapsed: 251\n",
      "Removed due to excess of vertical lines\n",
      "2100/6000, elapsed: 257\n",
      "Removed due to excess of vertical lines\n",
      "Removed due to excess of vertical lines\n",
      "Removed due to excess of vertical lines\n",
      "Removed due to excess of vertical lines\n",
      "Removed due to excess of vertical lines\n",
      "2150/6000, elapsed: 264\n",
      "Removed due to excess of vertical lines\n",
      "Removed due to excess of vertical lines\n",
      "Removed due to excess of vertical lines\n",
      "Removed due to excess of vertical lines\n",
      "Removed due to excess of vertical lines\n",
      "Removed due to excess of vertical lines\n",
      "2200/6000, elapsed: 271\n",
      "Removed due to excess of vertical lines\n",
      "2250/6000, elapsed: 277\n",
      "Removed due to excess of vertical lines\n",
      "Removed due to excess of vertical lines\n",
      "2300/6000, elapsed: 283\n",
      "Removed due to excess of vertical lines\n",
      "Removed due to excess of vertical lines\n",
      "Removed due to excess of vertical lines\n",
      "2350/6000, elapsed: 289\n",
      "Removed due to excess of vertical lines\n",
      "Removed due to excess of vertical lines\n",
      "2400/6000, elapsed: 295\n",
      "Removed due to excess of vertical lines\n",
      "Removed due to excess of vertical lines\n",
      "2450/6000, elapsed: 301\n",
      "2500/6000, elapsed: 307\n",
      "Removed due to excess of vertical lines\n",
      "Removed due to excess of vertical lines\n",
      "Removed due to excess of vertical lines\n",
      "Removed due to excess of vertical lines\n",
      "Removed due to excess of vertical lines\n",
      "2550/6000, elapsed: 313\n",
      "Removed due to excess of vertical lines\n",
      "Removed due to excess of vertical lines\n",
      "2600/6000, elapsed: 319\n",
      "Removed due to excess of vertical lines\n",
      "2650/6000, elapsed: 325\n",
      "Removed due to excess of vertical lines\n",
      "Removed due to excess of vertical lines\n",
      "Removed due to excess of vertical lines\n",
      "2700/6000, elapsed: 331\n",
      "Removed due to excess of vertical lines\n",
      "2750/6000, elapsed: 337\n",
      "Removed due to excess of vertical lines\n",
      "Removed due to excess of vertical lines\n",
      "2800/6000, elapsed: 344\n",
      "Removed due to excess of vertical lines\n",
      "Removed due to excess of vertical lines\n",
      "Removed due to excess of vertical lines\n",
      "2850/6000, elapsed: 350\n",
      "Removed due to excess of vertical lines\n",
      "Removed due to excess of vertical lines\n",
      "Removed due to excess of vertical lines\n",
      "2900/6000, elapsed: 356\n",
      "Removed due to excess of vertical lines\n",
      "2950/6000, elapsed: 362\n",
      "Removed due to excess of vertical lines\n",
      "3000/6000, elapsed: 368\n",
      "Removed due to excess of vertical lines\n",
      "Removed due to excess of vertical lines\n",
      "Removed due to excess of vertical lines\n",
      "3050/6000, elapsed: 375\n",
      "Removed due to excess of vertical lines\n",
      "Removed due to excess of vertical lines\n",
      "3100/6000, elapsed: 381\n",
      "Removed due to excess of vertical lines\n",
      "3150/6000, elapsed: 387\n",
      "Removed due to excess of vertical lines\n",
      "3200/6000, elapsed: 393\n",
      "Removed due to excess of vertical lines\n",
      "Removed due to excess of vertical lines\n",
      "3250/6000, elapsed: 399\n",
      "Removed due to excess of vertical lines\n",
      "3300/6000, elapsed: 405\n",
      "Removed due to excess of vertical lines\n",
      "Removed due to excess of vertical lines\n",
      "Removed due to excess of vertical lines\n",
      "Removed due to excess of vertical lines\n",
      "Removed due to excess of vertical lines\n",
      "3350/6000, elapsed: 411\n",
      "3400/6000, elapsed: 417\n",
      "3450/6000, elapsed: 423\n",
      "Removed due to excess of vertical lines\n",
      "3500/6000, elapsed: 428\n",
      "Removed due to excess of vertical lines\n",
      "Removed due to excess of vertical lines\n",
      "Removed due to excess of vertical lines\n",
      "Removed due to excess of vertical lines\n",
      "Removed due to excess of vertical lines\n",
      "3550/6000, elapsed: 435\n",
      "Removed due to excess of vertical lines\n",
      "3600/6000, elapsed: 441\n",
      "Removed due to excess of vertical lines\n",
      "Removed due to excess of vertical lines\n",
      "3650/6000, elapsed: 447\n",
      "Removed due to excess of vertical lines\n",
      "Removed due to excess of vertical lines\n",
      "3700/6000, elapsed: 454\n",
      "3750/6000, elapsed: 460\n",
      "Removed due to excess of vertical lines\n",
      "Removed due to excess of vertical lines\n",
      "Removed due to excess of vertical lines\n",
      "Removed due to excess of vertical lines\n",
      "Removed due to excess of vertical lines\n",
      "Removed due to excess of vertical lines\n",
      "3800/6000, elapsed: 466\n",
      "Removed due to excess of vertical lines\n",
      "Removed due to excess of vertical lines\n",
      "3850/6000, elapsed: 472\n",
      "Removed due to excess of vertical lines\n",
      "Removed due to excess of vertical lines\n",
      "3900/6000, elapsed: 478\n",
      "Removed due to excess of vertical lines\n",
      "Removed due to excess of vertical lines\n",
      "Removed due to excess of vertical lines\n",
      "Removed due to excess of vertical lines\n",
      "3950/6000, elapsed: 484\n",
      "Removed due to excess of vertical lines\n",
      "4000/6000, elapsed: 491\n",
      "Removed due to excess of vertical lines\n",
      "4050/6000, elapsed: 497\n",
      "Removed due to excess of vertical lines\n",
      "Removed due to excess of vertical lines\n",
      "4100/6000, elapsed: 503\n",
      "Removed due to excess of vertical lines\n",
      "Removed due to excess of vertical lines\n",
      "Removed due to excess of vertical lines\n",
      "4150/6000, elapsed: 509\n",
      "Removed due to excess of vertical lines\n",
      "Removed due to excess of vertical lines\n",
      "Removed due to excess of vertical lines\n",
      "Removed due to excess of vertical lines\n",
      "4200/6000, elapsed: 516\n",
      "Removed due to excess of vertical lines\n",
      "Removed due to excess of vertical lines\n",
      "4250/6000, elapsed: 522\n",
      "4300/6000, elapsed: 528\n",
      "Removed due to excess of vertical lines\n",
      "4350/6000, elapsed: 534\n",
      "Removed due to excess of vertical lines\n",
      "Removed due to excess of vertical lines\n",
      "4400/6000, elapsed: 540\n",
      "Removed due to excess of vertical lines\n",
      "4450/6000, elapsed: 546\n",
      "4500/6000, elapsed: 552\n",
      "Removed due to excess of vertical lines\n",
      "Removed due to excess of vertical lines\n",
      "4550/6000, elapsed: 558\n",
      "Removed due to excess of vertical lines\n",
      "4600/6000, elapsed: 565\n",
      "Removed due to excess of vertical lines\n",
      "Removed due to excess of vertical lines\n",
      "Removed due to excess of vertical lines\n",
      "Removed due to excess of vertical lines\n",
      "Removed due to excess of vertical lines\n",
      "4650/6000, elapsed: 572\n",
      "Removed due to excess of vertical lines\n",
      "Removed due to excess of vertical lines\n",
      "Removed due to excess of vertical lines\n",
      "4700/6000, elapsed: 578\n",
      "Removed due to excess of vertical lines\n",
      "Removed due to excess of vertical lines\n",
      "Removed due to excess of vertical lines\n",
      "Removed due to excess of vertical lines\n",
      "Removed due to excess of vertical lines\n",
      "4750/6000, elapsed: 584\n",
      "Removed due to excess of vertical lines\n",
      "4800/6000, elapsed: 590\n",
      "Removed due to excess of vertical lines\n",
      "Removed due to excess of vertical lines\n",
      "4850/6000, elapsed: 596\n",
      "Removed due to excess of vertical lines\n",
      "4900/6000, elapsed: 602\n",
      "Removed due to excess of vertical lines\n",
      "4950/6000, elapsed: 609\n",
      "Removed due to excess of vertical lines\n",
      "Removed due to excess of vertical lines\n",
      "5000/6000, elapsed: 615\n",
      "Removed due to excess of vertical lines\n",
      "5050/6000, elapsed: 621\n",
      "5100/6000, elapsed: 627\n",
      "Removed due to excess of vertical lines\n",
      "5150/6000, elapsed: 634\n",
      "Removed due to excess of vertical lines\n",
      "Removed due to excess of vertical lines\n",
      "5200/6000, elapsed: 640\n",
      "Removed due to excess of vertical lines\n",
      "Removed due to excess of vertical lines\n",
      "Removed due to excess of vertical lines\n",
      "5250/6000, elapsed: 646\n",
      "Removed due to excess of vertical lines\n",
      "5300/6000, elapsed: 652\n",
      "Removed due to excess of vertical lines\n",
      "Removed due to excess of vertical lines\n",
      "Removed due to excess of vertical lines\n",
      "5350/6000, elapsed: 657\n",
      "Removed due to excess of vertical lines\n",
      "Removed due to excess of vertical lines\n",
      "Removed due to excess of vertical lines\n",
      "5400/6000, elapsed: 664\n",
      "Removed due to excess of vertical lines\n",
      "Removed due to excess of vertical lines\n",
      "Removed due to excess of vertical lines\n",
      "Removed due to excess of vertical lines\n",
      "Removed due to excess of vertical lines\n",
      "Removed due to excess of vertical lines\n",
      "5450/6000, elapsed: 669\n",
      "Removed due to excess of vertical lines\n",
      "Removed due to excess of vertical lines\n",
      "Removed due to excess of vertical lines\n",
      "Removed due to excess of vertical lines\n",
      "Removed due to excess of vertical lines\n",
      "Removed due to excess of vertical lines\n",
      "5500/6000, elapsed: 676\n",
      "Removed due to excess of vertical lines\n",
      "5550/6000, elapsed: 681\n",
      "Removed due to excess of vertical lines\n",
      "Removed due to excess of vertical lines\n",
      "5600/6000, elapsed: 688\n",
      "Removed due to excess of vertical lines\n",
      "Removed due to excess of vertical lines\n",
      "Removed due to excess of vertical lines\n",
      "Removed due to excess of vertical lines\n",
      "5650/6000, elapsed: 694\n",
      "Removed due to excess of vertical lines\n",
      "5700/6000, elapsed: 700\n",
      "Removed due to excess of vertical lines\n",
      "5750/6000, elapsed: 706\n",
      "Removed due to excess of vertical lines\n",
      "Removed due to excess of vertical lines\n",
      "Removed due to excess of vertical lines\n",
      "Removed due to excess of vertical lines\n",
      "5800/6000, elapsed: 712\n",
      "Removed due to excess of vertical lines\n",
      "Removed due to excess of vertical lines\n",
      "Removed due to excess of vertical lines\n",
      "5850/6000, elapsed: 718\n",
      "Removed due to excess of vertical lines\n",
      "5900/6000, elapsed: 724\n",
      "Removed due to excess of vertical lines\n",
      "Removed due to excess of vertical lines\n",
      "Removed due to excess of vertical lines\n",
      "5950/6000, elapsed: 731\n",
      "Removed due to excess of vertical lines\n"
     ]
    }
   ],
   "source": [
    "from gamma_util import general_util\n",
    "import importlib\n",
    "importlib.reload(general_util)\n",
    "import time\n",
    "\n",
    "start_time = time.time()\n",
    "submit_prepared_image_list = list()\n",
    "for row_index, row in test_df.iterrows():\n",
    "    if row_index % 50 == 0:\n",
    "        print(f\"{row_index}/{len(test_df)}, elapsed: {int((time.time() - start_time))}\")\n",
    "    prepared_image = general_util.create_prepared_image(row)\n",
    "    submit_prepared_image_list.append(prepared_image)"
   ]
  },
  {
   "cell_type": "code",
   "execution_count": 469,
   "id": "c26eda7f-021c-407b-a355-6fd87241168c",
   "metadata": {},
   "outputs": [],
   "source": [
    "# import pickle\n",
    "\n",
    "# with open('submit_prepared_image_cache_v80', 'wb') as f:\n",
    "#     pickle.dump(submit_prepared_image_list, f)"
   ]
  },
  {
   "cell_type": "code",
   "execution_count": 17,
   "id": "55a37c4b-06c0-40f9-99ad-3a572309b76b",
   "metadata": {},
   "outputs": [],
   "source": [
    "# !cp submit_prepared_image_cache_v80 /aux/data"
   ]
  },
  {
   "cell_type": "code",
   "execution_count": 18,
   "id": "6f97de7c-135a-4407-a76f-3d12d8569002",
   "metadata": {},
   "outputs": [],
   "source": [
    "# import pickle\n",
    "\n",
    "# with open('submit_prepared_image_cache_v2', 'rb') as f:\n",
    "#     submit_prepared_image_list = pickle.load(f)\n",
    "# len(submit_prepared_image_list)"
   ]
  },
  {
   "cell_type": "code",
   "execution_count": 470,
   "id": "6a458986-c9e2-48b3-a37a-21c7958072c3",
   "metadata": {},
   "outputs": [
    {
     "name": "stdout",
     "output_type": "stream",
     "text": [
      "Totally clipped: 0\n"
     ]
    }
   ],
   "source": [
    "import numpy as np\n",
    "\n",
    "submit_full_line_image_array = np.zeros((\n",
    "    len(submit_prepared_image_list),\n",
    "    20,\n",
    "    80,\n",
    "    80\n",
    "))\n",
    "submit_full_label_array = np.zeros((\n",
    "    len(submit_prepared_image_list),\n",
    "))\n",
    "submit_full_type_array = np.zeros((\n",
    "    len(submit_prepared_image_list),\n",
    "))\n",
    "\n",
    "clip_amount = 0\n",
    "for prepared_image_index, prepared_image in enumerate(submit_prepared_image_list):\n",
    "    line_image_index = 0\n",
    "    for line_image in prepared_image.resized_line_image_list:\n",
    "        if line_image.image_arr.sum() == 0:\n",
    "            continue\n",
    "        if line_image_index >= 20:\n",
    "            clip_amount += 1\n",
    "            continue\n",
    "        submit_full_line_image_array[prepared_image_index, line_image_index, :, :] = line_image.image_arr\n",
    "        line_image_index += 1\n",
    "#     assert prepared_image.label is not None\n",
    "#     submit_full_label_array[prepared_image_index] = prepared_image.label\n",
    "#     assert prepared_image.image_type is not None\n",
    "#     submit_full_type_array[prepared_image_index] = prepared_image.image_type\n",
    "\n",
    "print(f\"Totally clipped: {clip_amount}\")"
   ]
  },
  {
   "cell_type": "code",
   "execution_count": null,
   "id": "db50564f-f120-4f3c-bdf8-b96b1b136877",
   "metadata": {},
   "outputs": [],
   "source": [
    "# from tensorflow import keras\n",
    "# model = keras.models.load_model('real_best_model_today_v3.hdf5')"
   ]
  },
  {
   "cell_type": "code",
   "execution_count": 471,
   "id": "fc1de03a-b6c2-4ce2-8f37-04719ab5286d",
   "metadata": {},
   "outputs": [
    {
     "name": "stdout",
     "output_type": "stream",
     "text": [
      "12\n",
      "500\n"
     ]
    }
   ],
   "source": [
    "all_indices = np.arange(len(submit_full_line_image_array))\n",
    "index_part_list = np.array_split(all_indices, 12)\n",
    "print(len(index_part_list))\n",
    "print(len(index_part_list[0]))"
   ]
  },
  {
   "cell_type": "code",
   "execution_count": 472,
   "id": "eca5a406-8def-457a-89a3-23fe628dba37",
   "metadata": {},
   "outputs": [
    {
     "name": "stdout",
     "output_type": "stream",
     "text": [
      "16/16 [==============================] - 0s 18ms/step\n",
      "Done\n",
      "16/16 [==============================] - 0s 13ms/step\n",
      "Done\n",
      "16/16 [==============================] - 0s 13ms/step\n",
      "Done\n",
      "16/16 [==============================] - 0s 13ms/step\n",
      "Done\n",
      "16/16 [==============================] - 0s 13ms/step\n",
      "Done\n",
      "16/16 [==============================] - 0s 13ms/step\n",
      "Done\n",
      "16/16 [==============================] - 0s 13ms/step\n",
      "Done\n",
      "16/16 [==============================] - 0s 13ms/step\n",
      "Done\n",
      "16/16 [==============================] - 0s 13ms/step\n",
      "Done\n",
      "16/16 [==============================] - 1s 13ms/step\n",
      "Done\n",
      "16/16 [==============================] - 0s 13ms/step\n",
      "Done\n",
      "16/16 [==============================] - 0s 13ms/step\n",
      "Done\n"
     ]
    }
   ],
   "source": [
    "pred_list = list()\n",
    "\n",
    "for index_part in index_part_list:\n",
    "    submit_y_pred = model.predict(\n",
    "        submit_full_line_image_array[index_part][:,:,:,:,np.newaxis]\n",
    "    )[:,0]\n",
    "    submit_y_pred = np.round(submit_y_pred)\n",
    "    pred_list.append(submit_y_pred)\n",
    "    print(\"Done\")"
   ]
  },
  {
   "cell_type": "code",
   "execution_count": 476,
   "id": "3c34ed51-f105-44d9-be50-20f0957a12a8",
   "metadata": {},
   "outputs": [
    {
     "name": "stdout",
     "output_type": "stream",
     "text": [
      "Actual: 7.0\n"
     ]
    },
    {
     "data": {
      "text/plain": [
       "<matplotlib.image.AxesImage at 0x7f73dc1c6880>"
      ]
     },
     "execution_count": 476,
     "metadata": {},
     "output_type": "execute_result"
    },
    {
     "data": {
      "image/png": "[encoded data removed]",
      "text/plain": [
       "<Figure size 432x288 with 1 Axes>"
      ]
     },
     "metadata": {
      "needs_background": "light"
     },
     "output_type": "display_data"
    }
   ],
   "source": [
    "import pandas as pd\n",
    "import numpy as np\n",
    "%matplotlib inline\n",
    "import matplotlib.pyplot as plt\n",
    "import cv2\n",
    "from PIL import Image\n",
    "import glob, os\n",
    "import matplotlib.pyplot as plt\n",
    "import pandas as pd\n",
    "import numpy as np\n",
    "\n",
    "chosen_index = 0\n",
    "actual = pred_list[0][chosen_index]\n",
    "print(f\"Actual: {actual}\")\n",
    "im = submit_prepared_image_list[chosen_index]\n",
    "plt.figure()\n",
    "plt.imshow(\n",
    "    Image.fromarray(im.input_image)\n",
    ")"
   ]
  },
  {
   "cell_type": "code",
   "execution_count": 477,
   "id": "6c7cddd2-9f7e-4f22-b9f4-40921422ca80",
   "metadata": {},
   "outputs": [
    {
     "data": {
      "text/plain": [
       "6000"
      ]
     },
     "execution_count": 477,
     "metadata": {},
     "output_type": "execute_result"
    }
   ],
   "source": [
    "submit_list = list()\n",
    "for part in pred_list:\n",
    "    submit_list += list(part)\n",
    "len(submit_list)"
   ]
  },
  {
   "cell_type": "code",
   "execution_count": 478,
   "id": "124c9f9e-acc4-4d59-a2d2-13611c6d8d87",
   "metadata": {},
   "outputs": [
    {
     "data": {
      "text/plain": [
       "0        7\n",
       "1       16\n",
       "2        2\n",
       "3        6\n",
       "4        9\n",
       "        ..\n",
       "5995    15\n",
       "5996    14\n",
       "5997    16\n",
       "5998     8\n",
       "5999     2\n",
       "Length: 6000, dtype: int32"
      ]
     },
     "execution_count": 478,
     "metadata": {},
     "output_type": "execute_result"
    }
   ],
   "source": [
    "import pandas as pd\n",
    "final_series = pd.Series(submit_list).astype(np.int32)\n",
    "final_series"
   ]
  },
  {
   "cell_type": "code",
   "execution_count": 479,
   "id": "7d6e7bb1-19ef-4141-97c9-e58b05d7620e",
   "metadata": {},
   "outputs": [],
   "source": [
    "final_df = final_series.to_frame()\n",
    "final_df.columns = ['label']\n",
    "final_df.to_csv('submit_81.csv', index=False)"
   ]
  },
  {
   "cell_type": "code",
   "execution_count": 480,
   "id": "3e7db9b7-9142-4a3e-9eb0-48d672755bd9",
   "metadata": {},
   "outputs": [
    {
     "name": "stdout",
     "output_type": "stream",
     "text": [
      "label\n",
      "7\n",
      "16\n",
      "2\n",
      "6\n",
      "9\n",
      "4\n",
      "15\n",
      "17\n",
      "10\n"
     ]
    }
   ],
   "source": [
    "!head -n 10 submit_81.csv"
   ]
  },
  {
   "cell_type": "code",
   "execution_count": null,
   "id": "191d850b-deb2-4a2d-9388-ab8a9141a649",
   "metadata": {},
   "outputs": [],
   "source": []
  }
 ],
 "metadata": {
  "kernelspec": {
   "display_name": "Python 3",
   "language": "python",
   "name": "python3"
  },
  "language_info": {
   "codemirror_mode": {
    "name": "ipython",
    "version": 3
   },
   "file_extension": ".py",
   "mimetype": "text/x-python",
   "name": "python",
   "nbconvert_exporter": "python",
   "pygments_lexer": "ipython3",
   "version": "3.8.10"
  }
 },
 "nbformat": 4,
 "nbformat_minor": 5
}
